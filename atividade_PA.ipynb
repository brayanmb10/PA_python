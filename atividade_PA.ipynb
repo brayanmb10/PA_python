{
  "cells": [
    {
      "cell_type": "markdown",
      "metadata": {
        "id": "view-in-github",
        "colab_type": "text"
      },
      "source": [
        "<a href=\"https://colab.research.google.com/github/brayanmb10/PA_python/blob/main/atividade_PA.ipynb\" target=\"_parent\"><img src=\"https://colab.research.google.com/assets/colab-badge.svg\" alt=\"Open In Colab\"/></a>"
      ]
    },
    {
      "cell_type": "markdown",
      "metadata": {
        "id": "zah6L1AoutiM"
      },
      "source": [
        "exercicio 1"
      ]
    },
    {
      "cell_type": "code",
      "execution_count": null,
      "metadata": {
        "colab": {
          "base_uri": "https://localhost:8080/"
        },
        "id": "YZBVjdxQraDv",
        "outputId": "3f9b06dc-a3fe-4a42-8028-1c467d4f5976"
      },
      "outputs": [
        {
          "name": "stdout",
          "output_type": "stream",
          "text": [
            "digite uma idade: 20\n",
            "digite outra idade: 80\n",
            "False\n"
          ]
        }
      ],
      "source": [
        "##entrada\n",
        "idade = int(input(\"digite uma idade: \"))\n",
        "idade2= int(input(\"digite outra idade: \"))\n",
        "##processamento\n",
        "resultado=idade > idade2\n",
        "\n",
        "##saida\n",
        "print(resultado)\n",
        "\n"
      ]
    },
    {
      "cell_type": "markdown",
      "metadata": {
        "id": "vWN79z-bvC8X"
      },
      "source": [
        "exercicio 2"
      ]
    },
    {
      "cell_type": "code",
      "execution_count": null,
      "metadata": {
        "id": "jgDFDk9HvHch"
      },
      "outputs": [],
      "source": [
        "##entrada\n",
        "idade = int(input(\"Digite sua idade: \"))\n",
        "senha = input(\"Digite sua senha: \")\n",
        "##processamento\n",
        "mensagens = [\"Acesso negado!\", \"Acesso permitido!\"]\n",
        "indice_mensagem = (idade > 18 and senha == \"1234\")\n",
        "##saida\n",
        "print(mensagens[indice_mensagem])"
      ]
    },
    {
      "cell_type": "markdown",
      "metadata": {
        "id": "SeWonPscw_6t"
      },
      "source": [
        "exercicio 3"
      ]
    },
    {
      "cell_type": "code",
      "execution_count": null,
      "metadata": {
        "colab": {
          "base_uri": "https://localhost:8080/"
        },
        "id": "lXtSP_oKxDEd",
        "outputId": "72448eb1-995e-4909-aec6-dc1fbf559399"
      },
      "outputs": [
        {
          "name": "stdout",
          "output_type": "stream",
          "text": [
            "Digite um número: 20\n",
            "O número não está entre 10 e 50: False\n"
          ]
        }
      ],
      "source": [
        "##entrada\n",
        "numero = int(input(\"Digite um número: \"))\n",
        "##processamento\n",
        "resultado = (numero < 10) or (numero > 50)\n",
        "##saida\n",
        "print(\"O número não está entre 10 e 50:\", resultado)"
      ]
    },
    {
      "cell_type": "markdown",
      "metadata": {
        "id": "EIn5JHmqxZQT"
      },
      "source": [
        "exercicio 4"
      ]
    },
    {
      "cell_type": "code",
      "execution_count": null,
      "metadata": {
        "colab": {
          "background_save": true
        },
        "id": "xBatBs4pxbSg"
      },
      "outputs": [],
      "source": [
        "##entrada\n",
        "saldo = float(input(\"Digite o saldo do cliente: \"))\n",
        "valor_da_compra = float(input(\"Digite o valor da compra: \"))\n",
        "tem_cupom = input(\"O cliente possui cupom de desconto ativo? (sim/nao): \")\n",
        "\n",
        "##processamento\n",
        "pode_comprar = (saldo >= valor_da_compra) or (tem_cupom.lower() == \"sim\")\n",
        "\n",
        "##saida\n",
        "print([\"Compra não autorizada. Saldo insuficiente e/ou sem cupom de desconto.\", \"Compra autorizada!\"][pode_comprar])\n"
      ]
    },
    {
      "cell_type": "markdown",
      "metadata": {
        "id": "W4bON4TNxdEQ"
      },
      "source": [
        "exercicio 5"
      ]
    },
    {
      "cell_type": "code",
      "execution_count": null,
      "metadata": {
        "colab": {
          "base_uri": "https://localhost:8080/"
        },
        "id": "-lmFK9TyxfoS",
        "outputId": "fd7aa581-fea4-4460-90d3-22abf4edc945"
      },
      "outputs": [
        {
          "name": "stdout",
          "output_type": "stream",
          "text": [
            "Digite um número: 3\n"
          ]
        }
      ],
      "source": [
        "##entrada\n",
        "numero = int(input(\"Digite um número: \"))"
      ]
    },
    {
      "cell_type": "code",
      "execution_count": null,
      "metadata": {
        "id": "Flsn9-7E-aQJ"
      },
      "outputs": [],
      "source": [
        "par = (numero % 2 == 0)"
      ]
    },
    {
      "cell_type": "code",
      "execution_count": null,
      "metadata": {
        "id": "BloH4-m6-eyw"
      },
      "outputs": [],
      "source": [
        "impar = (numero % 2 != 0)"
      ]
    },
    {
      "cell_type": "code",
      "execution_count": null,
      "metadata": {
        "id": "ZuA0i7O4-hvZ"
      },
      "outputs": [],
      "source": [
        "##processamento"
      ]
    },
    {
      "cell_type": "code",
      "execution_count": null,
      "metadata": {
        "id": "dFr-49uf-mIv"
      },
      "outputs": [],
      "source": [
        "compare_results = (par == True) and (impar == False)"
      ]
    },
    {
      "cell_type": "code",
      "execution_count": null,
      "metadata": {
        "id": "jym1pN1Y-3J2"
      },
      "outputs": [],
      "source": [
        "##saida"
      ]
    },
    {
      "cell_type": "code",
      "execution_count": null,
      "metadata": {
        "colab": {
          "base_uri": "https://localhost:8080/"
        },
        "id": "_q0nJVZ0-6X7",
        "outputId": "dbfdd9e6-c273-4156-f1b0-5c7363d44637"
      },
      "outputs": [
        {
          "data": {
            "text/plain": [
              "False"
            ]
          },
          "execution_count": 71,
          "metadata": {},
          "output_type": "execute_result"
        }
      ],
      "source": [
        "par"
      ]
    },
    {
      "cell_type": "markdown",
      "metadata": {
        "id": "IICFhtdMxjwR"
      },
      "source": [
        "exercicio 6"
      ]
    },
    {
      "cell_type": "code",
      "execution_count": null,
      "metadata": {
        "colab": {
          "base_uri": "https://localhost:8080/"
        },
        "id": "7lGeaxxhxoOF",
        "outputId": "130038be-d59c-483a-d7ad-965d57880a4c"
      },
      "outputs": [
        {
          "name": "stdout",
          "output_type": "stream",
          "text": [
            "Digite sua idade: 14\n",
            "True\n"
          ]
        }
      ],
      "source": [
        "##entrada\n",
        "idade = int(input(\"Digite sua idade: \"))\n",
        "##processamento\n",
        "esta=(idade >= 13 and idade <= 17)\n",
        "##saida\n",
        "print(esta)\n",
        "\n"
      ]
    },
    {
      "cell_type": "markdown",
      "metadata": {
        "id": "ssZ6ujq8_KI5"
      },
      "source": [
        "exercicio 7"
      ]
    },
    {
      "cell_type": "code",
      "execution_count": null,
      "metadata": {
        "id": "Tun_zOFQDOhQ",
        "colab": {
          "base_uri": "https://localhost:8080/"
        },
        "outputId": "a3bd46f1-1a7d-4b0d-f3f5-9f44ac046fb1"
      },
      "outputs": [
        {
          "output_type": "stream",
          "name": "stdout",
          "text": [
            "Digite sua senha: 33333\n",
            "Você é um administrador? (sim/não): não\n",
            "False\n"
          ]
        }
      ],
      "source": [
        "##entrada\n",
        "senha = input(\"Digite sua senha: \")\n",
        "senha_correta = \"12345\"\n",
        "admin = input(\"Você é um administrador? (sim/não): \")\n",
        "##processamento\n",
        "acesso_permitido=(senha == senha_correta) or (admin.lower() == \"sim\")\n",
        "acesso_negado=(senha != senha_correta) and (admin.lower() != \"não\")\n",
        "##saida\n",
        "print(acesso_permitido)\n"
      ]
    },
    {
      "cell_type": "markdown",
      "metadata": {
        "id": "Lzo_jdrw_P9z"
      },
      "source": [
        "exercicio 8"
      ]
    },
    {
      "cell_type": "code",
      "execution_count": null,
      "metadata": {
        "id": "oLtm95pH_RpB",
        "colab": {
          "base_uri": "https://localhost:8080/"
        },
        "outputId": "02f550cc-afc3-4c49-d210-508876d6e2b4"
      },
      "outputs": [
        {
          "output_type": "stream",
          "name": "stdout",
          "text": [
            "Digite a nota do aluno: 7\n",
            "Digite a nota mínima necessária: 6\n",
            "O aluno está presente? (sim/não): não\n",
            "False\n"
          ]
        }
      ],
      "source": [
        "##entrada\n",
        "nota = input(\"Digite a nota do aluno: \")\n",
        "nota_necessaria = input(\"Digite a nota mínima necessária: \")\n",
        "presente = input(\"O aluno está presente? (sim/não): \")\n",
        "##processamento\n",
        "aprovado=(nota >= nota_necessaria) and (presente.lower() == \"sim\")\n",
        "reprovado=(nota < nota_necessaria) or (presente.lower() != \"sim\")\n",
        "##saida\n",
        "print(aprovado)"
      ]
    },
    {
      "cell_type": "markdown",
      "metadata": {
        "id": "tgHMUR1B_Ufs"
      },
      "source": [
        "exercicio 9"
      ]
    },
    {
      "cell_type": "code",
      "execution_count": 4,
      "metadata": {
        "id": "PNyrXH7l_WPH",
        "colab": {
          "base_uri": "https://localhost:8080/"
        },
        "outputId": "a855148a-1ac3-41ea-d8a0-a8ce5b059b3d"
      },
      "outputs": [
        {
          "output_type": "stream",
          "name": "stdout",
          "text": [
            "digite uma velocidade: 90\n",
            "True\n"
          ]
        }
      ],
      "source": [
        "##entrada\n",
        "velocidade = input(\"digite uma velocidade: \")\n",
        "##processamento\n",
        "multa=(int(velocidade) > 80)\n",
        "##saida\n",
        "print(multa)"
      ]
    },
    {
      "cell_type": "markdown",
      "metadata": {
        "id": "WAN0Y2Vt_b8_"
      },
      "source": [
        "exercicio 10"
      ]
    },
    {
      "cell_type": "code",
      "execution_count": 6,
      "metadata": {
        "id": "JQZQRdch_eFo",
        "colab": {
          "base_uri": "https://localhost:8080/"
        },
        "outputId": "84108ce2-604c-45ee-93a4-fa2ae2c3129f"
      },
      "outputs": [
        {
          "output_type": "stream",
          "name": "stdout",
          "text": [
            "digite uma idade: 40\n",
            "True\n"
          ]
        }
      ],
      "source": [
        "##entrada\n",
        "idade = input(\"digite uma idade: \")\n",
        "tem_convite = True\n",
        "##processamento\n",
        "pode_entrar =(int(idade) >= 18) and (tem_convite == True)\n",
        "##saida\n",
        "print(pode_entrar)"
      ]
    }
  ],
  "metadata": {
    "colab": {
      "provenance": [],
      "authorship_tag": "ABX9TyP2J2F9kUGebMaoKkdEgE0f",
      "include_colab_link": true
    },
    "kernelspec": {
      "display_name": "Python 3",
      "name": "python3"
    },
    "language_info": {
      "name": "python"
    }
  },
  "nbformat": 4,
  "nbformat_minor": 0
}