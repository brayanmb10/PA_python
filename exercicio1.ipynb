{
  "nbformat": 4,
  "nbformat_minor": 0,
  "metadata": {
    "colab": {
      "provenance": [],
      "authorship_tag": "ABX9TyOm7a3TtAnwo2eLYRCh7w2+",
      "include_colab_link": true
    },
    "kernelspec": {
      "name": "python3",
      "display_name": "Python 3"
    },
    "language_info": {
      "name": "python"
    }
  },
  "cells": [
    {
      "cell_type": "markdown",
      "metadata": {
        "id": "view-in-github",
        "colab_type": "text"
      },
      "source": [
        "<a href=\"https://colab.research.google.com/github/brayanmb10/PA_python/blob/main/exercicio1.ipynb\" target=\"_parent\"><img src=\"https://colab.research.google.com/assets/colab-badge.svg\" alt=\"Open In Colab\"/></a>"
      ]
    },
    {
      "cell_type": "code",
      "execution_count": 1,
      "metadata": {
        "id": "fxd0f5-IsxGu"
      },
      "outputs": [],
      "source": [
        "##entrada"
      ]
    },
    {
      "cell_type": "code",
      "source": [
        "valor=float(input(\"digite um valor:\"))\n"
      ],
      "metadata": {
        "colab": {
          "base_uri": "https://localhost:8080/"
        },
        "id": "fEqJxlk5tYW2",
        "outputId": "d3683a0a-a3e7-4773-c76e-ba81e2c181c9"
      },
      "execution_count": 17,
      "outputs": [
        {
          "name": "stdout",
          "output_type": "stream",
          "text": [
            "digite um valor:25000\n"
          ]
        }
      ]
    },
    {
      "cell_type": "code",
      "source": [
        "impostos = (valor * 45/100)"
      ],
      "metadata": {
        "id": "1AHnuX8wtyte"
      },
      "execution_count": 18,
      "outputs": []
    },
    {
      "cell_type": "code",
      "source": [
        "distribuição = ( valor + impostos )* 28/100"
      ],
      "metadata": {
        "id": "XuQmZnCg3Igj"
      },
      "execution_count": 19,
      "outputs": []
    },
    {
      "cell_type": "code",
      "source": [
        "##processamento"
      ],
      "metadata": {
        "id": "oRi-c31K3aLS"
      },
      "execution_count": 20,
      "outputs": []
    },
    {
      "cell_type": "code",
      "source": [
        "valor_final = valor + impostos + distribuição"
      ],
      "metadata": {
        "id": "rHxW45Pz3djc"
      },
      "execution_count": 21,
      "outputs": []
    },
    {
      "cell_type": "code",
      "source": [
        "##saida"
      ],
      "metadata": {
        "id": "IzagrXo13lfZ"
      },
      "execution_count": 22,
      "outputs": []
    },
    {
      "cell_type": "code",
      "source": [
        "valor_final"
      ],
      "metadata": {
        "colab": {
          "base_uri": "https://localhost:8080/"
        },
        "id": "11DehxbY3ovt",
        "outputId": "db88942e-87f2-40eb-a401-dadcdd3597cd"
      },
      "execution_count": 23,
      "outputs": [
        {
          "output_type": "execute_result",
          "data": {
            "text/plain": [
              "46400.0"
            ]
          },
          "metadata": {},
          "execution_count": 23
        }
      ]
    }
  ]
}