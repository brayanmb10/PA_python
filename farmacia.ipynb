{
  "nbformat": 4,
  "nbformat_minor": 0,
  "metadata": {
    "colab": {
      "provenance": [],
      "authorship_tag": "ABX9TyMFLUn9T2Xb3TVYgodW3xig",
      "include_colab_link": true
    },
    "kernelspec": {
      "name": "python3",
      "display_name": "Python 3"
    },
    "language_info": {
      "name": "python"
    }
  },
  "cells": [
    {
      "cell_type": "markdown",
      "metadata": {
        "id": "view-in-github",
        "colab_type": "text"
      },
      "source": [
        "<a href=\"https://colab.research.google.com/github/brayanmb10/PA_python/blob/main/farmacia.ipynb\" target=\"_parent\"><img src=\"https://colab.research.google.com/assets/colab-badge.svg\" alt=\"Open In Colab\"/></a>"
      ]
    },
    {
      "cell_type": "code",
      "execution_count": null,
      "metadata": {
        "colab": {
          "base_uri": "https://localhost:8080/"
        },
        "id": "iIGQ5N4YUiOg",
        "outputId": "245a51df-cea6-4c27-96e8-51771a7b67b5"
      },
      "outputs": [
        {
          "output_type": "stream",
          "name": "stdout",
          "text": [
            "Informe o valor do medicamento (em R$): 10\n",
            "Informe a idade do cliente: 80\n",
            "\n",
            "Valor do desconto: R$ 2.50\n",
            "Valor final a ser pago: R$ 7.50\n"
          ]
        }
      ],
      "source": [
        "##entrada\n",
        "def calcular_desconto(valor_medicamento, idade_cliente):\n",
        "    if idade_cliente < 12:\n",
        "        desconto = 0.15\n",
        "    elif 60 <= idade_cliente <= 75:\n",
        "        desconto = 0.20\n",
        "    elif idade_cliente > 75:\n",
        "        desconto = 0.25\n",
        "    else:\n",
        "        desconto = 0.0\n",
        "\n",
        "    valor_desconto = valor_medicamento * desconto\n",
        "    valor_final = valor_medicamento - valor_desconto\n",
        "\n",
        "    return valor_desconto, valor_final\n",
        "\n",
        "##processamento\n",
        "try:\n",
        "    valor = float(input(\"Informe o valor do medicamento (em R$): \"))\n",
        "    idade = int(input(\"Informe a idade do cliente: \"))\n",
        "    desconto, total = calcular_desconto(valor, idade)\n",
        "\n",
        "##saida\n",
        "    print(f\"\\nValor do desconto: R$ {desconto:.2f}\")\n",
        "    print(f\"Valor final a ser pago: R$ {total:.2f}\")\n",
        "\n",
        "except ValueError:\n",
        "    print(\"Entrada inválida. Por favor, insira números válidos.\")\n"
      ]
    }
  ]
}