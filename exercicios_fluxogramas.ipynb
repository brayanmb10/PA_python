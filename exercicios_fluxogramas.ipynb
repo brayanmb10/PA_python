{
  "nbformat": 4,
  "nbformat_minor": 0,
  "metadata": {
    "colab": {
      "provenance": [],
      "authorship_tag": "ABX9TyNw95YFDsC7XribIAP4Njol",
      "include_colab_link": true
    },
    "kernelspec": {
      "name": "python3",
      "display_name": "Python 3"
    },
    "language_info": {
      "name": "python"
    }
  },
  "cells": [
    {
      "cell_type": "markdown",
      "metadata": {
        "id": "view-in-github",
        "colab_type": "text"
      },
      "source": [
        "<a href=\"https://colab.research.google.com/github/brayanmb10/PA_python/blob/main/exercicios_fluxogramas.ipynb\" target=\"_parent\"><img src=\"https://colab.research.google.com/assets/colab-badge.svg\" alt=\"Open In Colab\"/></a>"
      ]
    },
    {
      "cell_type": "markdown",
      "source": [
        "primeiro exercicio"
      ],
      "metadata": {
        "id": "aa5j0QUFQfTV"
      }
    },
    {
      "cell_type": "code",
      "execution_count": null,
      "metadata": {
        "id": "ABJ3QliMOVMo"
      },
      "outputs": [],
      "source": [
        "##Entrada"
      ]
    },
    {
      "cell_type": "code",
      "source": [
        "valor=float(input(\"digite um valor:\"))"
      ],
      "metadata": {
        "colab": {
          "base_uri": "https://localhost:8080/"
        },
        "id": "9BrKgQKBQlP9",
        "outputId": "e8f7c7fa-189a-4bb5-cc1a-f5b891a55121"
      },
      "execution_count": null,
      "outputs": [
        {
          "name": "stdout",
          "output_type": "stream",
          "text": [
            "digite um valor:25000\n"
          ]
        }
      ]
    },
    {
      "cell_type": "code",
      "source": [
        "impostos = (valor * 45/100)"
      ],
      "metadata": {
        "id": "9qfE85G2QzwZ"
      },
      "execution_count": null,
      "outputs": []
    },
    {
      "cell_type": "code",
      "source": [
        "distribuição= (valor + impostos)*28/100"
      ],
      "metadata": {
        "id": "B2L1I7OTQ7-S"
      },
      "execution_count": null,
      "outputs": []
    },
    {
      "cell_type": "code",
      "source": [
        "##Processamento"
      ],
      "metadata": {
        "id": "_BNW9-ehRB_0"
      },
      "execution_count": null,
      "outputs": []
    },
    {
      "cell_type": "code",
      "source": [
        "valor_final = valor + impostos + distribuição"
      ],
      "metadata": {
        "id": "L3tBckcARJFJ"
      },
      "execution_count": null,
      "outputs": []
    },
    {
      "cell_type": "code",
      "source": [
        "##Saida"
      ],
      "metadata": {
        "id": "vtrbXdniRNft"
      },
      "execution_count": null,
      "outputs": []
    },
    {
      "cell_type": "code",
      "source": [
        "valor_final"
      ],
      "metadata": {
        "colab": {
          "base_uri": "https://localhost:8080/"
        },
        "id": "oSXEoQkrRSCU",
        "outputId": "ffc047f3-6ca8-49c7-857e-fbbdce4e9008"
      },
      "execution_count": null,
      "outputs": [
        {
          "output_type": "execute_result",
          "data": {
            "text/plain": [
              "46400.0"
            ]
          },
          "metadata": {},
          "execution_count": 9
        }
      ]
    },
    {
      "cell_type": "markdown",
      "source": [
        "segundo exercicio"
      ],
      "metadata": {
        "id": "xAHGDfZYRfH9"
      }
    },
    {
      "cell_type": "code",
      "source": [
        "##Entrada"
      ],
      "metadata": {
        "id": "9DWm3wbKRihY"
      },
      "execution_count": null,
      "outputs": []
    },
    {
      "cell_type": "code",
      "source": [
        "hora = 3"
      ],
      "metadata": {
        "id": "RyihygojRmJG"
      },
      "execution_count": null,
      "outputs": []
    },
    {
      "cell_type": "code",
      "source": [
        "minutos = 47"
      ],
      "metadata": {
        "id": "BEQ8r3aHRrmr"
      },
      "execution_count": null,
      "outputs": []
    },
    {
      "cell_type": "code",
      "source": [
        "##Processamento"
      ],
      "metadata": {
        "id": "l6rN5kQYRwiE"
      },
      "execution_count": null,
      "outputs": []
    },
    {
      "cell_type": "code",
      "source": [
        "tempo = (minutos/60) + hora"
      ],
      "metadata": {
        "id": "MNfNd6zdR0Ty"
      },
      "execution_count": null,
      "outputs": []
    },
    {
      "cell_type": "code",
      "source": [
        "##Saida"
      ],
      "metadata": {
        "id": "2z5NAMU1R72A"
      },
      "execution_count": null,
      "outputs": []
    },
    {
      "cell_type": "code",
      "source": [
        "tempo"
      ],
      "metadata": {
        "colab": {
          "base_uri": "https://localhost:8080/"
        },
        "id": "sPDNnbtrR-yH",
        "outputId": "ce377703-d4fa-4656-faf8-c6d8c2aa9b69"
      },
      "execution_count": null,
      "outputs": [
        {
          "output_type": "execute_result",
          "data": {
            "text/plain": [
              "3.783333333333333"
            ]
          },
          "metadata": {},
          "execution_count": 16
        }
      ]
    },
    {
      "cell_type": "markdown",
      "source": [
        "terceiro exercicio"
      ],
      "metadata": {
        "id": "mx6OWAwdSB39"
      }
    },
    {
      "cell_type": "code",
      "source": [
        "##Entrada"
      ],
      "metadata": {
        "id": "Xu3DfWRaSGuP"
      },
      "execution_count": null,
      "outputs": []
    },
    {
      "cell_type": "code",
      "source": [
        "hora = 15"
      ],
      "metadata": {
        "id": "j0bQECP9SKjk"
      },
      "execution_count": null,
      "outputs": []
    },
    {
      "cell_type": "code",
      "source": [
        "minuto = 45"
      ],
      "metadata": {
        "id": "OMToWiz0SOo8"
      },
      "execution_count": null,
      "outputs": []
    },
    {
      "cell_type": "code",
      "source": [
        "valor_hora = 25"
      ],
      "metadata": {
        "id": "pQ1Oa3A-STGY"
      },
      "execution_count": null,
      "outputs": []
    },
    {
      "cell_type": "code",
      "source": [
        "##Processamento"
      ],
      "metadata": {
        "id": "8TvajTviShZI"
      },
      "execution_count": null,
      "outputs": []
    },
    {
      "cell_type": "code",
      "source": [
        "tempo = hora + (minutos/60)"
      ],
      "metadata": {
        "id": "wu-CugvKS5Fo"
      },
      "execution_count": null,
      "outputs": []
    },
    {
      "cell_type": "code",
      "source": [
        "salario = tempo * valor_hora"
      ],
      "metadata": {
        "id": "5_y2SluGTMuq"
      },
      "execution_count": null,
      "outputs": []
    },
    {
      "cell_type": "code",
      "source": [
        "hora_extra = (salario * 70/100)"
      ],
      "metadata": {
        "id": "Mb2INgmkTOHo"
      },
      "execution_count": null,
      "outputs": []
    },
    {
      "cell_type": "code",
      "source": [
        "salario = salario + hora_extra"
      ],
      "metadata": {
        "id": "bWh3idfMTTlx"
      },
      "execution_count": null,
      "outputs": []
    },
    {
      "cell_type": "code",
      "source": [
        "##Saida"
      ],
      "metadata": {
        "id": "HVeCBDzaT1MZ"
      },
      "execution_count": null,
      "outputs": []
    },
    {
      "cell_type": "code",
      "source": [
        "salario"
      ],
      "metadata": {
        "colab": {
          "base_uri": "https://localhost:8080/"
        },
        "id": "YIxrHEPsXZ9G",
        "outputId": "0afe4b06-9d74-4890-b636-bc630cd2cc65"
      },
      "execution_count": null,
      "outputs": [
        {
          "output_type": "execute_result",
          "data": {
            "text/plain": [
              "1223.2083333333333"
            ]
          },
          "metadata": {},
          "execution_count": 41
        }
      ]
    },
    {
      "cell_type": "markdown",
      "source": [
        "exercicio 4"
      ],
      "metadata": {
        "id": "om4cMAK7d_7S"
      }
    },
    {
      "cell_type": "code",
      "source": [
        "##Entrada"
      ],
      "metadata": {
        "id": "Z6ERky7yeCYN"
      },
      "execution_count": 2,
      "outputs": []
    },
    {
      "cell_type": "code",
      "source": [
        "capital = 2000"
      ],
      "metadata": {
        "id": "1zoxEyPVEn2x"
      },
      "execution_count": 3,
      "outputs": []
    },
    {
      "cell_type": "code",
      "source": [
        "taxa = 20/100"
      ],
      "metadata": {
        "id": "gi3w1ueQEr6J"
      },
      "execution_count": 4,
      "outputs": []
    },
    {
      "cell_type": "code",
      "source": [
        "tempo = 7"
      ],
      "metadata": {
        "id": "Zq9jS7NwEsJa"
      },
      "execution_count": 5,
      "outputs": []
    },
    {
      "cell_type": "code",
      "source": [
        "##processamento"
      ],
      "metadata": {
        "id": "z_CJt3rkEs60"
      },
      "execution_count": 6,
      "outputs": []
    },
    {
      "cell_type": "code",
      "source": [
        "montante = capital * (1 + taxa)**tempo"
      ],
      "metadata": {
        "id": "opvPvga8EskC"
      },
      "execution_count": 7,
      "outputs": []
    },
    {
      "cell_type": "code",
      "source": [
        "##saida"
      ],
      "metadata": {
        "id": "O3FOzy0OE8sU"
      },
      "execution_count": 8,
      "outputs": []
    },
    {
      "cell_type": "code",
      "source": [
        "montante"
      ],
      "metadata": {
        "colab": {
          "base_uri": "https://localhost:8080/"
        },
        "id": "OMR2YIvlE_kH",
        "outputId": "e0082d85-0104-453d-dc0b-14064e68597a"
      },
      "execution_count": 9,
      "outputs": [
        {
          "output_type": "execute_result",
          "data": {
            "text/plain": [
              "7166.361599999998"
            ]
          },
          "metadata": {},
          "execution_count": 9
        }
      ]
    },
    {
      "cell_type": "markdown",
      "source": [
        "exercicio 5"
      ],
      "metadata": {
        "id": "_0iYLEchFB-4"
      }
    },
    {
      "cell_type": "code",
      "source": [
        "##entrada"
      ],
      "metadata": {
        "id": "sqH2t8UoFKgV"
      },
      "execution_count": 10,
      "outputs": []
    },
    {
      "cell_type": "code",
      "source": [
        "valor = 200"
      ],
      "metadata": {
        "id": "jZnLFZ4dFPdS"
      },
      "execution_count": 11,
      "outputs": []
    },
    {
      "cell_type": "code",
      "source": [
        "gorjeta=20"
      ],
      "metadata": {
        "id": "4KJFH8BRFPXz"
      },
      "execution_count": 13,
      "outputs": []
    },
    {
      "cell_type": "code",
      "source": [
        "total_pessoas = 7"
      ],
      "metadata": {
        "id": "IWphitrNFPS-"
      },
      "execution_count": 14,
      "outputs": []
    },
    {
      "cell_type": "code",
      "source": [
        "serviço = 8%100"
      ],
      "metadata": {
        "id": "VUsBVJmzFPNj"
      },
      "execution_count": 15,
      "outputs": []
    },
    {
      "cell_type": "code",
      "source": [
        "##processamento"
      ],
      "metadata": {
        "id": "hTmBwbNkFeNX"
      },
      "execution_count": 16,
      "outputs": []
    },
    {
      "cell_type": "code",
      "source": [
        "valor_total = valor + serviço"
      ],
      "metadata": {
        "id": "QqqtCOO5FeEe"
      },
      "execution_count": 17,
      "outputs": []
    },
    {
      "cell_type": "code",
      "source": [
        "total_com_gorjeta = valor_total + gorjeta"
      ],
      "metadata": {
        "id": "DSd_OwATFPIO"
      },
      "execution_count": 18,
      "outputs": []
    },
    {
      "cell_type": "code",
      "source": [
        "valor_por_pessoa = total_com_gorjeta/total_pessoas"
      ],
      "metadata": {
        "id": "ep8oRaMVFs37"
      },
      "execution_count": 19,
      "outputs": []
    },
    {
      "cell_type": "code",
      "source": [
        "##saida"
      ],
      "metadata": {
        "id": "dqszoRl_Fszb"
      },
      "execution_count": 20,
      "outputs": []
    },
    {
      "cell_type": "code",
      "source": [
        "valor_total"
      ],
      "metadata": {
        "colab": {
          "base_uri": "https://localhost:8080/"
        },
        "id": "76NpcqZ1F1kd",
        "outputId": "dc79131c-8261-4155-90f1-17cf2f842bc3"
      },
      "execution_count": 22,
      "outputs": [
        {
          "output_type": "execute_result",
          "data": {
            "text/plain": [
              "208"
            ]
          },
          "metadata": {},
          "execution_count": 22
        }
      ]
    }
  ]
}