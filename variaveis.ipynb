{
  "nbformat": 4,
  "nbformat_minor": 0,
  "metadata": {
    "colab": {
      "provenance": [],
      "authorship_tag": "ABX9TyMpArdZsHDxJ9U23MZO9dIB",
      "include_colab_link": true
    },
    "kernelspec": {
      "name": "python3",
      "display_name": "Python 3"
    },
    "language_info": {
      "name": "python"
    }
  },
  "cells": [
    {
      "cell_type": "markdown",
      "metadata": {
        "id": "view-in-github",
        "colab_type": "text"
      },
      "source": [
        "<a href=\"https://colab.research.google.com/github/brayanmb10/PA_python/blob/main/variaveis.ipynb\" target=\"_parent\"><img src=\"https://colab.research.google.com/assets/colab-badge.svg\" alt=\"Open In Colab\"/></a>"
      ]
    },
    {
      "cell_type": "code",
      "execution_count": null,
      "metadata": {
        "id": "6SDSowtn-wot"
      },
      "outputs": [],
      "source": [
        "from os.path import supports_unicode_filenames\n",
        "#calculadora\n",
        "##entrada\n",
        "numero1 = int(input(\"digite um numero: \"))\n",
        "numero2 = int(input(\"digite outro numero: \"))\n",
        "##processamento\n",
        "soma = num1 + num2\n",
        "subtracao = num1 - num2\n",
        "multiplicacao = numero1 * num2\n",
        "divisao = num1 / num2\n",
        "##saida\n",
        "print(soma)\n"
      ]
    }
  ]
}