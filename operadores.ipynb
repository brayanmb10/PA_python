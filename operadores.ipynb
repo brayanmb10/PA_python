{
  "nbformat": 4,
  "nbformat_minor": 0,
  "metadata": {
    "colab": {
      "provenance": [],
      "authorship_tag": "ABX9TyMFI4eqH2hN8FOvKRky+k/U",
      "include_colab_link": true
    },
    "kernelspec": {
      "name": "python3",
      "display_name": "Python 3"
    },
    "language_info": {
      "name": "python"
    }
  },
  "cells": [
    {
      "cell_type": "markdown",
      "metadata": {
        "id": "view-in-github",
        "colab_type": "text"
      },
      "source": [
        "<a href=\"https://colab.research.google.com/github/brayanmb10/PA_python/blob/main/operadores.ipynb\" target=\"_parent\"><img src=\"https://colab.research.google.com/assets/colab-badge.svg\" alt=\"Open In Colab\"/></a>"
      ]
    },
    {
      "cell_type": "code",
      "execution_count": 2,
      "metadata": {
        "colab": {
          "base_uri": "https://localhost:8080/"
        },
        "id": "2K0QZS02yDBD",
        "outputId": "ad2d38fd-0921-4b94-b7d5-9fa038d87e1f"
      },
      "outputs": [
        {
          "output_type": "execute_result",
          "data": {
            "text/plain": [
              "2"
            ]
          },
          "metadata": {},
          "execution_count": 2
        }
      ],
      "source": [
        "# soma\n",
        "1+1"
      ]
    },
    {
      "cell_type": "code",
      "source": [
        "#subtração\n",
        "5 - 3"
      ],
      "metadata": {
        "colab": {
          "base_uri": "https://localhost:8080/"
        },
        "id": "3yaTZxfjyjKN",
        "outputId": "098d4a41-77d9-436b-dd6f-a47741e0f325"
      },
      "execution_count": 3,
      "outputs": [
        {
          "output_type": "execute_result",
          "data": {
            "text/plain": [
              "2"
            ]
          },
          "metadata": {},
          "execution_count": 3
        }
      ]
    },
    {
      "cell_type": "code",
      "source": [
        "#multiplicação\n",
        "5*5"
      ],
      "metadata": {
        "colab": {
          "base_uri": "https://localhost:8080/"
        },
        "id": "AHOMz4VIyxDa",
        "outputId": "f613ed09-d7e6-4c63-f77c-0c3f7920557a"
      },
      "execution_count": 4,
      "outputs": [
        {
          "output_type": "execute_result",
          "data": {
            "text/plain": [
              "25"
            ]
          },
          "metadata": {},
          "execution_count": 4
        }
      ]
    },
    {
      "cell_type": "code",
      "source": [
        "#divisão\n",
        "6/2"
      ],
      "metadata": {
        "colab": {
          "base_uri": "https://localhost:8080/"
        },
        "id": "anJLa3EVzHkQ",
        "outputId": "21dd0f91-e0dc-4163-aeb4-49d99485d888"
      },
      "execution_count": 5,
      "outputs": [
        {
          "output_type": "execute_result",
          "data": {
            "text/plain": [
              "3.0"
            ]
          },
          "metadata": {},
          "execution_count": 5
        }
      ]
    },
    {
      "cell_type": "code",
      "source": [
        "#expoente\n",
        "2**3"
      ],
      "metadata": {
        "colab": {
          "base_uri": "https://localhost:8080/"
        },
        "id": "eM3Ejm-wzlbv",
        "outputId": "dbdeb35d-e8bb-470b-fb7d-08f527eeb121"
      },
      "execution_count": 9,
      "outputs": [
        {
          "output_type": "execute_result",
          "data": {
            "text/plain": [
              "8"
            ]
          },
          "metadata": {},
          "execution_count": 9
        }
      ]
    },
    {
      "cell_type": "markdown",
      "source": [
        "variaveis"
      ],
      "metadata": {
        "id": "y6TQt1TU0H-0"
      }
    },
    {
      "cell_type": "code",
      "source": [
        "soma = 5 +7"
      ],
      "metadata": {
        "id": "UjryFkW50Suo"
      },
      "execution_count": 10,
      "outputs": []
    },
    {
      "cell_type": "code",
      "source": [
        "print ('a soma é igual', soma)"
      ],
      "metadata": {
        "colab": {
          "base_uri": "https://localhost:8080/"
        },
        "id": "6UGeCmCl08C9",
        "outputId": "e9cba452-e77f-4d50-e09b-afc054336a4e"
      },
      "execution_count": 11,
      "outputs": [
        {
          "output_type": "stream",
          "name": "stdout",
          "text": [
            "a soma é igual 12\n"
          ]
        }
      ]
    },
    {
      "cell_type": "code",
      "source": [
        "soma"
      ],
      "metadata": {
        "colab": {
          "base_uri": "https://localhost:8080/"
        },
        "id": "mKFhtTeb1MOs",
        "outputId": "a57a628a-1e79-4a60-bbbf-9638df4339e9"
      },
      "execution_count": 12,
      "outputs": [
        {
          "output_type": "execute_result",
          "data": {
            "text/plain": [
              "12"
            ]
          },
          "metadata": {},
          "execution_count": 12
        }
      ]
    },
    {
      "cell_type": "markdown",
      "source": [
        "soma 1"
      ],
      "metadata": {
        "id": "TBmA5o5s4B2r"
      }
    },
    {
      "cell_type": "code",
      "source": [
        "print ('a soma é igual', soma)"
      ],
      "metadata": {
        "colab": {
          "base_uri": "https://localhost:8080/"
        },
        "id": "Ui04IfLG4Hbe",
        "outputId": "f1667915-1954-41cf-9326-282c796ef3b4"
      },
      "execution_count": 29,
      "outputs": [
        {
          "output_type": "stream",
          "name": "stdout",
          "text": [
            "a soma é igual 982.6666666666666\n"
          ]
        }
      ]
    },
    {
      "cell_type": "code",
      "source": [
        "#subtração soma\n",
        "print ('a soma agora é' , soma - 1000 + 10*9 /20)\n",
        ""
      ],
      "metadata": {
        "colab": {
          "base_uri": "https://localhost:8080/"
        },
        "id": "eWg1z5rh4xuh",
        "outputId": "f70eeb6b-06de-4421-88fb-55f315192164"
      },
      "execution_count": 46,
      "outputs": [
        {
          "output_type": "stream",
          "name": "stdout",
          "text": [
            "a soma agora é 57.166666666666515\n"
          ]
        }
      ]
    },
    {
      "cell_type": "code",
      "source": [
        "# calcular area do quadrado\n",
        "\n",
        "##entrada\n",
        "lado = int(input('digite o lado do quadrado'))\n",
        "\n",
        "##processamento\n",
        "area = lado * lado\n",
        "\n",
        "##saida\n",
        "print ('a area do quadrado é', area, 'cm2')"
      ],
      "metadata": {
        "colab": {
          "base_uri": "https://localhost:8080/"
        },
        "id": "64Ls2JoX6wNC",
        "outputId": "3812eb1b-960b-4051-db13-a708d46a0891"
      },
      "execution_count": 48,
      "outputs": [
        {
          "output_type": "stream",
          "name": "stdout",
          "text": [
            "digite o lado do quadrado3\n",
            "a area do quadrado é 9 cm2\n"
          ]
        }
      ]
    }
  ]
}