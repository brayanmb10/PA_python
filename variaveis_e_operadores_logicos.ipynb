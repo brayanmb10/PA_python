{
  "nbformat": 4,
  "nbformat_minor": 0,
  "metadata": {
    "colab": {
      "provenance": [],
      "authorship_tag": "ABX9TyNAN13Io/rPhqcc4MQt3W+a",
      "include_colab_link": true
    },
    "kernelspec": {
      "name": "python3",
      "display_name": "Python 3"
    },
    "language_info": {
      "name": "python"
    }
  },
  "cells": [
    {
      "cell_type": "markdown",
      "metadata": {
        "id": "view-in-github",
        "colab_type": "text"
      },
      "source": [
        "<a href=\"https://colab.research.google.com/github/brayanmb10/PA_python/blob/main/variaveis_e_operadores_logicos.ipynb\" target=\"_parent\"><img src=\"https://colab.research.google.com/assets/colab-badge.svg\" alt=\"Open In Colab\"/></a>"
      ]
    },
    {
      "cell_type": "code",
      "source": [
        "#calcular a media das notas"
      ],
      "metadata": {
        "id": "YHeOVla1X5Sy"
      },
      "execution_count": 1,
      "outputs": []
    },
    {
      "cell_type": "code",
      "execution_count": 2,
      "metadata": {
        "id": "RUptNZz1VSBx"
      },
      "outputs": [],
      "source": [
        "#entrada\n",
        "\n"
      ]
    },
    {
      "cell_type": "code",
      "source": [
        "nota1 = float(input('nota da prova 1 ,'))\n",
        "print(nota1)"
      ],
      "metadata": {
        "colab": {
          "base_uri": "https://localhost:8080/"
        },
        "collapsed": true,
        "id": "F9FE1N6tXVXx",
        "outputId": "4a09c46d-46e0-45af-c4b3-8bda1d60b878"
      },
      "execution_count": 34,
      "outputs": [
        {
          "output_type": "stream",
          "name": "stdout",
          "text": [
            "nota da prova 1 ,8\n",
            "8.0\n"
          ]
        }
      ]
    },
    {
      "cell_type": "code",
      "source": [
        "nota2 = float(input('nota da prova 2 ,' ))\n",
        "print(nota2)"
      ],
      "metadata": {
        "colab": {
          "base_uri": "https://localhost:8080/"
        },
        "id": "gkU1Ixu6YVnb",
        "outputId": "0f5a22a3-c80b-4241-d833-0b32c14cc5e8"
      },
      "execution_count": 35,
      "outputs": [
        {
          "output_type": "stream",
          "name": "stdout",
          "text": [
            "nota da prova 2 ,10\n",
            "10.0\n"
          ]
        }
      ]
    },
    {
      "cell_type": "code",
      "source": [
        "#processamento\n"
      ],
      "metadata": {
        "id": "F4YR_Qx3Y0J2"
      },
      "execution_count": null,
      "outputs": []
    },
    {
      "cell_type": "code",
      "source": [
        "media = (nota1 + nota2)/2\n"
      ],
      "metadata": {
        "id": "adL5ANzFY_I1"
      },
      "execution_count": 36,
      "outputs": []
    },
    {
      "cell_type": "code",
      "source": [
        "#saida\n"
      ],
      "metadata": {
        "id": "oQACTIWmZVul"
      },
      "execution_count": 38,
      "outputs": []
    },
    {
      "cell_type": "code",
      "source": [
        "print('a media das notas é' , media)"
      ],
      "metadata": {
        "colab": {
          "base_uri": "https://localhost:8080/"
        },
        "id": "GzUQqAExZcIy",
        "outputId": "10f47dc5-3784-47d7-8285-b5acb42006fc"
      },
      "execution_count": 41,
      "outputs": [
        {
          "output_type": "stream",
          "name": "stdout",
          "text": [
            "a media das notas é 9.0\n"
          ]
        }
      ]
    },
    {
      "cell_type": "code",
      "source": [],
      "metadata": {
        "id": "I9bJt9MgZyDC"
      },
      "execution_count": null,
      "outputs": []
    },
    {
      "cell_type": "code",
      "source": [
        "#entrada\n",
        "nota1 = float(input('8'))\n",
        "nota2 = float(input('7,5' ))\n",
        "\n",
        "#processamento\n",
        "media = (nota1 + nota2)/2\n",
        "\n",
        "#saida\n",
        "print('a media é', media)"
      ],
      "metadata": {
        "colab": {
          "base_uri": "https://localhost:8080/"
        },
        "collapsed": true,
        "id": "u0gQYEdQZztD",
        "outputId": "9f6b027d-5e05-4370-ccce-c607968fbbb0"
      },
      "execution_count": 16,
      "outputs": [
        {
          "output_type": "stream",
          "name": "stdout",
          "text": [
            "88\n",
            "7,59\n",
            "a media é 8.5\n"
          ]
        }
      ]
    },
    {
      "cell_type": "code",
      "source": [
        "#entrada\n",
        "celsius = float(input('digite a temperatura em celsius'))\n",
        "\n",
        "#processamento\n",
        "fahrenheit = (celsius * 1.8) + 32\n",
        "\n",
        "#saida\n",
        "print('a temperatura em fahrenheit é', fahrenheit)"
      ],
      "metadata": {
        "colab": {
          "base_uri": "https://localhost:8080/"
        },
        "id": "DGkJua54b1o1",
        "outputId": "ab3c36ef-cad2-436c-d105-30ecb7d2be8f"
      },
      "execution_count": 11,
      "outputs": [
        {
          "output_type": "stream",
          "name": "stdout",
          "text": [
            "digite a temperatura em celsius100\n",
            "a temperatura em fahrenheit é 212.0\n"
          ]
        }
      ]
    },
    {
      "cell_type": "code",
      "source": [
        "#entrada\n",
        "fahrenheit = float(input('digite a temperatura em fahrenheit'))\n",
        "\n",
        "#processamento\n",
        "celsius = (fahrenheit - 32)/1.8\n",
        "\n",
        "#saida\n",
        "print('a temperatura em celsius é', celsius)"
      ],
      "metadata": {
        "colab": {
          "base_uri": "https://localhost:8080/"
        },
        "id": "JeoEbiV_awYL",
        "outputId": "e9a6d282-332f-4c70-9bd9-a11fbe3ab339"
      },
      "execution_count": 12,
      "outputs": [
        {
          "output_type": "stream",
          "name": "stdout",
          "text": [
            "digite a temperatura em fahrenheit100\n",
            "a temperatura em celsius é 37.77777777777778\n"
          ]
        }
      ]
    },
    {
      "cell_type": "code",
      "source": [
        "#entrada\n"
      ],
      "metadata": {
        "id": "jfUlas2ij1kn"
      },
      "execution_count": 18,
      "outputs": []
    },
    {
      "cell_type": "code",
      "source": [
        "valor = float(input('digite o valor do produto: '))"
      ],
      "metadata": {
        "colab": {
          "base_uri": "https://localhost:8080/"
        },
        "collapsed": true,
        "id": "BCjg7pbSkobS",
        "outputId": "011232ae-f29c-4d9d-ea83-efd23954e5d9"
      },
      "execution_count": 31,
      "outputs": [
        {
          "name": "stdout",
          "output_type": "stream",
          "text": [
            "digite o valor do produto: 10\n"
          ]
        }
      ]
    },
    {
      "cell_type": "code",
      "source": [
        "qtde = int(input('digite a quantidade do produto: '))"
      ],
      "metadata": {
        "colab": {
          "base_uri": "https://localhost:8080/"
        },
        "id": "bvpVU_PClYCK",
        "outputId": "0a6babc5-2a89-4014-c7df-4dc7bc72d346"
      },
      "execution_count": 32,
      "outputs": [
        {
          "name": "stdout",
          "output_type": "stream",
          "text": [
            "digite a quantidade do produto: 5\n"
          ]
        }
      ]
    },
    {
      "cell_type": "code",
      "source": [
        "#processamento\n",
        "valor_total = valor * qtde\n",
        "# saida\n",
        "print('o valor total é', valor_total)"
      ],
      "metadata": {
        "colab": {
          "base_uri": "https://localhost:8080/"
        },
        "id": "HvnrzSjrlfCy",
        "outputId": "6bfdbff1-f3b6-4e64-e0c1-2f5f9ed40b4c"
      },
      "execution_count": 33,
      "outputs": [
        {
          "output_type": "stream",
          "name": "stdout",
          "text": [
            "o valor total é 50.0\n"
          ]
        }
      ]
    }
  ]
}